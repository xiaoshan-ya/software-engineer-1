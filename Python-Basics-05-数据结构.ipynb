{
 "cells": [
  {
   "cell_type": "markdown",
   "metadata": {},
   "source": [
    "# Data Structure"
   ]
  },
  {
   "cell_type": "markdown",
   "metadata": {},
   "source": [
    "## List"
   ]
  },
  {
   "cell_type": "code",
   "execution_count": 3,
   "metadata": {},
   "outputs": [
    {
     "name": "stdout",
     "output_type": "stream",
     "text": [
      "I have 4 items to purchase.\n",
      "These items are: apple mango carrot banana \n",
      "I also have to buy rice.\n",
      "Sorted shopping list is ['apple', 'mango', 'carrot', 'banana', 'rice']\n",
      "The first item I will buy is apple\n",
      "I bought the apple\n",
      "My shopping list is now ['mango', 'carrot', 'banana', 'rice']\n"
     ]
    }
   ],
   "source": [
    "# This is my shopping  list\n",
    "shoplist = ['apple', 'mango','carrot', 'banana']\n",
    "\n",
    "print('I have', len(shoplist), 'items to purchase.')\n",
    "\n",
    "print('These items are:', end = ' ')\n",
    "for item in shoplist:\n",
    "    print(item, end =' ')\n",
    "\n",
    "print('\\nI also have to buy rice.')\n",
    "shoplist.append('rice')\n",
    "print('Sorted shopping list is', shoplist)\n",
    "\n",
    "print('The first item I will buy is', shoplist[0])\n",
    "olditem = shoplist[0]\n",
    "del shoplist[0]\n",
    "\n",
    "print('I bought the', olditem)\n",
    "print('My shopping list is now', shoplist)"
   ]
  },
  {
   "cell_type": "markdown",
   "metadata": {},
   "source": [
    "## Turple"
   ]
  },
  {
   "cell_type": "code",
   "execution_count": 1,
   "metadata": {},
   "outputs": [
    {
     "name": "stdout",
     "output_type": "stream",
     "text": [
      "Number of animals in the zoo is 3\n",
      "Number of animals in the zoo is 3\n",
      "All animals in new zoo are ('monkey', 'camel', ('python', 'elephant', 'penguin'))\n",
      "Animals brought from old zoo are ('python', 'elephant', 'penguin')\n",
      "Last animals brought from old zoo is penguin\n",
      "Number of animals in the new zoo is 5\n"
     ]
    }
   ],
   "source": [
    "zoo = ('python', 'elephant','penguin')\n",
    "print('Number of animals in the zoo is', len(zoo))\n",
    "\n",
    "new_zoo = 'monkey', 'camel', zoo\n",
    "print('Number of animals in the zoo is', len(new_zoo))\n",
    "print('All animals in new zoo are', new_zoo)\n",
    "print('Animals brought from old zoo are', new_zoo[2])\n",
    "print('Last animals brought from old zoo is', new_zoo[2][2])\n",
    "print('Number of animals in the new zoo is', len(new_zoo)-1+len(new_zoo[2]))"
   ]
  },
  {
   "cell_type": "code",
   "execution_count": 14,
   "metadata": {},
   "outputs": [
    {
     "name": "stdout",
     "output_type": "stream",
     "text": [
      "penguin\n",
      "('python', 'elephant', 'penguin', 'monkey', 'camel')\n",
      "('python', 'elephant', 'penguin', 'python', 'elephant', 'penguin', 'python', 'elephant', 'penguin', 'python', 'elephant', 'penguin')\n",
      "True\n",
      "python\n",
      "elephant\n",
      "penguin\n",
      "('python', 'elephant', 'penguin')\n",
      "('dog', 'cat')\n"
     ]
    }
   ],
   "source": [
    "zoo1 = ('python', 'elephant','penguin')\n",
    "zoo2 = ('monkey', 'camel')\n",
    "print(zoo1[2])\n",
    "print(zoo1 + zoo2)\n",
    "print(zoo1 *4)\n",
    "print ('python' in zoo1)\n",
    "for animal in zoo1:\n",
    "    print(animal)\n",
    "#del zoo1\n",
    "print(zoo1)\n",
    "zoo3 = tuple(['dog','cat'])\n",
    "print(zoo3)"
   ]
  },
  {
   "cell_type": "markdown",
   "metadata": {},
   "source": [
    "## Dictionary"
   ]
  },
  {
   "cell_type": "code",
   "execution_count": 20,
   "metadata": {},
   "outputs": [
    {
     "name": "stdout",
     "output_type": "stream",
     "text": [
      "Swarrop's address is swaroop@swaroopch.com\n",
      "\n",
      "There are 3 contactes in the address-book\n",
      "\n",
      "Contact Swaroop at swaroop@swaroopch.com\n",
      "Contact Larry at larry@wall.org\n",
      "Contact Matsumoto at matz@ruby-lang.org\n",
      "Swaroop\n",
      "Larry\n",
      "Matsumoto\n",
      "swaroop@swaroopch.com\n",
      "larry@wall.org\n",
      "matz@ruby-lang.org\n",
      "guido@python.org\n",
      "\n",
      "Guido's address is guido@python.org\n"
     ]
    }
   ],
   "source": [
    "# \"ab\" is the abbrev of \" Address Book\"\n",
    "\n",
    "ab = {\n",
    "    'Swaroop':'swaroop@swaroopch.com',\n",
    "    'Larry':'larry@wall.org',\n",
    "    'Matsumoto':'matz@ruby-lang.org',\n",
    "    'Spammer':'spammer@hotmail.com'\n",
    "}\n",
    "\n",
    "print(\"Swarrop's address is\", ab['Swaroop'])\n",
    "\n",
    "del ab['Spammer']\n",
    "\n",
    "print('\\nThere are {} contactes in the address-book\\n'.format(len(ab)))\n",
    "\n",
    "for name, address in ab.items():\n",
    "    print('Contact {} at {}'.format(name, address))\n",
    "    \n",
    "for name in ab.keys():\n",
    "    print (name)\n",
    "    \n",
    "for address in ab.values():\n",
    "    print (address)\n",
    "    \n",
    "ab['Guido'] = 'guido@python.org'\n",
    "\n",
    "print(ab.get('Guido'))\n",
    "\n",
    "#ab.clear()\n",
    "\n",
    "if 'Guido' in ab:\n",
    "    print(\"\\nGuido's address is\", ab['Guido'])"
   ]
  },
  {
   "cell_type": "markdown",
   "metadata": {},
   "source": [
    "## Slice"
   ]
  },
  {
   "cell_type": "code",
   "execution_count": 6,
   "metadata": {},
   "outputs": [
    {
     "name": "stdout",
     "output_type": "stream",
     "text": [
      "Item 0 is apple\n",
      "Item 1 is mango\n",
      "Item 2 is carrot\n",
      "Item 3 is banana\n",
      "Item -1 is banana\n",
      "Item -2 is carrot\n",
      "Character 0 is s\n",
      "Item 1 to 3 is ['mango', 'carrot']\n",
      "Item 2 to end is ['carrot', 'banana']\n",
      "Item 1 to -1 is ['mango', 'carrot']\n",
      "Item start to end is ['apple', 'mango', 'carrot', 'banana']\n",
      "Character 1 to 3 is wa\n",
      "Character 2 to end is aroop\n",
      "Character 1 to -1 is waroo\n",
      "Character start to end is swaroop\n",
      "['apple', 'mango', 'carrot', 'banana']\n",
      "['apple', 'carrot']\n",
      "['apple', 'banana']\n",
      "['banana', 'carrot', 'mango', 'apple']\n"
     ]
    }
   ],
   "source": [
    "shoplist = ['apple', 'mango','carrot', 'banana']\n",
    "name = 'swaroop'\n",
    "\n",
    "print('Item 0 is', shoplist[0])\n",
    "print('Item 1 is', shoplist[1])\n",
    "print('Item 2 is', shoplist[2])\n",
    "print('Item 3 is', shoplist[3])\n",
    "print('Item -1 is', shoplist[-1])\n",
    "print('Item -2 is', shoplist[-2])\n",
    "print('Character 0 is', name[0])\n",
    "\n",
    "print('Item 1 to 3 is', shoplist[1:3])\n",
    "print('Item 2 to end is', shoplist[2:])\n",
    "print('Item 1 to -1 is', shoplist[1:-1])\n",
    "print('Item start to end is', shoplist[:])\n",
    "\n",
    "print('Character 1 to 3 is', name[1:3])\n",
    "print('Character 2 to end is', name[2:])\n",
    "print('Character 1 to -1 is', name[1:-1])\n",
    "print('Character start to end is', name[:])\n",
    "\n",
    "print(shoplist[::1])\n",
    "print(shoplist[::2])\n",
    "print(shoplist[::3])\n",
    "print(shoplist[::-1])"
   ]
  },
  {
   "cell_type": "markdown",
   "metadata": {},
   "source": [
    "## Set"
   ]
  },
  {
   "cell_type": "code",
   "execution_count": 24,
   "metadata": {},
   "outputs": [
    {
     "name": "stdout",
     "output_type": "stream",
     "text": [
      "True\n",
      "False\n",
      "True\n",
      "{'india', 'brazil'}\n"
     ]
    }
   ],
   "source": [
    "bri = set(['brazil','russia','india'])\n",
    "print('india' in bri)\n",
    "print('usa' in bri)\n",
    "bric = bri.copy()\n",
    "bric.add('china')\n",
    "print(bric.issuperset(bri))\n",
    "bri.remove('russia')\n",
    "print(bri & bric)"
   ]
  },
  {
   "cell_type": "markdown",
   "metadata": {},
   "source": [
    "## Reference"
   ]
  },
  {
   "cell_type": "code",
   "execution_count": 16,
   "metadata": {},
   "outputs": [
    {
     "name": "stdout",
     "output_type": "stream",
     "text": [
      "shoplist is ['mango', 'carrot', 'banana']\n",
      "mylist is ['mango', 'carrot', 'banana']\n",
      "Copy by making a full slice\n",
      "shoplist is ['mango', 'carrot', 'banana']\n",
      "mylist is ['carrot', 'banana']\n"
     ]
    }
   ],
   "source": [
    "shoplist = ['apple', 'mango','carrot', 'banana']\n",
    "mylist = shoplist\n",
    "\n",
    "del shoplist[0]\n",
    "\n",
    "print('shoplist is', shoplist)\n",
    "print('mylist is', mylist)\n",
    "\n",
    "print('Copy by making a full slice')\n",
    "mylist = shoplist[:]\n",
    "\n",
    "del mylist[0]\n",
    "\n",
    "print('shoplist is', shoplist)\n",
    "print('mylist is', mylist)"
   ]
  },
  {
   "cell_type": "markdown",
   "metadata": {},
   "source": [
    "## String"
   ]
  },
  {
   "cell_type": "code",
   "execution_count": 26,
   "metadata": {},
   "outputs": [
    {
     "name": "stdout",
     "output_type": "stream",
     "text": [
      "Yes, the string startswith \"Swa\"\n",
      "Yes, it contains the string \"a\"\n",
      "2\n",
      "Yes, it contains the string \"war\"\n",
      "brazil_*_russia_*_india_*_China\n"
     ]
    }
   ],
   "source": [
    "name = 'Swaroop'\n",
    "\n",
    "if name.startswith('Swa'):\n",
    "    print('Yes, the string startswith \"Swa\"')\n",
    "    \n",
    "if 'a' in name:\n",
    "    print('Yes, it contains the string \"a\"')\n",
    "    \n",
    "if name.find('war')!=-1:\n",
    "    print(name.find('ar'))\n",
    "    print('Yes, it contains the string \"war\"')\n",
    "    \n",
    "delimiter = '_*_'\n",
    "mylist = ['brazil','russia','india', 'China']\n",
    "print(delimiter.join(mylist))"
   ]
  },
  {
   "cell_type": "markdown",
   "metadata": {},
   "source": [
    "## Homework 06 - Anagram\n",
    "\n",
    "Check two words whether are anagram.\n",
    "+ Enter two strings and I'll tell you if they are anagrams:\n",
    "+ Enter the first string: note\n",
    "+ Enter the second string: tone \n",
    "+ \"note\" and \"tone\" are anagrams."
   ]
  },
  {
   "cell_type": "code",
   "execution_count": 4,
   "metadata": {},
   "outputs": [
    {
     "name": "stdout",
     "output_type": "stream",
     "text": [
      "True\n"
     ]
    }
   ],
   "source": [
    "def anagramSolution1(s1,s2):\n",
    "    alist = list(s2)\n",
    "\n",
    "    pos1 = 0\n",
    "    stillOK = True\n",
    "\n",
    "    while pos1 < len(s1) and stillOK:\n",
    "        pos2 = 0\n",
    "        found = False\n",
    "        while pos2 < len(alist) and not found:\n",
    "            if s1[pos1] == alist[pos2]:\n",
    "                found = True\n",
    "            else:\n",
    "                pos2 = pos2 + 1\n",
    "\n",
    "        if found:\n",
    "            alist[pos2] = None\n",
    "        else:\n",
    "            stillOK = False\n",
    "\n",
    "        pos1 = pos1 + 1\n",
    "\n",
    "    return stillOK\n",
    "\n",
    "print(anagramSolution1('abcd','dcba'))"
   ]
  },
  {
   "cell_type": "code",
   "execution_count": 4,
   "metadata": {},
   "outputs": [
    {
     "name": "stdout",
     "output_type": "stream",
     "text": [
      "['e', 'n', 'o', 't']\n",
      "enot\n",
      "False\n"
     ]
    }
   ],
   "source": [
    "a = 'note'\n",
    "b = 'tonq'\n",
    "print(sorted(a))\n",
    "print(''.join(sorted(a)))\n",
    "if sorted(a)==sorted(b):\n",
    "    print(True)\n",
    "else:\n",
    "    print(False)"
   ]
  },
  {
   "cell_type": "code",
   "execution_count": 2,
   "metadata": {},
   "outputs": [
    {
     "name": "stdout",
     "output_type": "stream",
     "text": [
      "True\n",
      "True\n"
     ]
    }
   ],
   "source": [
    "strlist = 'AA-1234'.split('-',1)\n",
    "alpha = strlist[0]\n",
    "digit = strlist[1]\n",
    "print(alpha.isalpha())\n",
    "print(digit.isdigit())"
   ]
  },
  {
   "cell_type": "code",
   "execution_count": null,
   "metadata": {
    "collapsed": true
   },
   "outputs": [],
   "source": []
  }
 ],
 "metadata": {
  "kernelspec": {
   "display_name": "Python 3",
   "language": "python",
   "name": "python3"
  },
  "language_info": {
   "codemirror_mode": {
    "name": "ipython",
    "version": 3
   },
   "file_extension": ".py",
   "mimetype": "text/x-python",
   "name": "python",
   "nbconvert_exporter": "python",
   "pygments_lexer": "ipython3",
   "version": "3.6.5"
  }
 },
 "nbformat": 4,
 "nbformat_minor": 2
}
