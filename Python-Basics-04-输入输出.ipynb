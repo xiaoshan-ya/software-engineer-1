{
 "cells": [
  {
   "cell_type": "markdown",
   "metadata": {},
   "source": [
    "# Input and Output"
   ]
  },
  {
   "cell_type": "markdown",
   "metadata": {},
   "source": [
    "## Console"
   ]
  },
  {
   "cell_type": "code",
   "execution_count": 3,
   "metadata": {},
   "outputs": [
    {
     "name": "stdout",
     "output_type": "stream",
     "text": [
      "Enter text: madam\n",
      "Yes, it is a palindrome\n"
     ]
    }
   ],
   "source": [
    "# io_input.py\n",
    "\n",
    "def reverse(text):\n",
    "    return text[::-1]\n",
    "\n",
    "def is_palindrome(text):\n",
    "    return text == reverse(text)\n",
    "\n",
    "something = input(\"Enter text: \")\n",
    "\n",
    "if is_palindrome(something):\n",
    "    print(\"Yes, it is a palindrome\")\n",
    "else:\n",
    "    print(\"No, it is not a palindrome\")"
   ]
  },
  {
   "cell_type": "markdown",
   "metadata": {},
   "source": [
    "## File"
   ]
  },
  {
   "cell_type": "code",
   "execution_count": 7,
   "metadata": {},
   "outputs": [
    {
     "name": "stdout",
     "output_type": "stream",
     "text": [
      "Programming is fun\n",
      "When the work is done\n",
      "if you wanna make your work also fun:\n",
      "    use Python!\n"
     ]
    }
   ],
   "source": [
    "# io_using_file.py\n",
    "\n",
    "poem = '''\\\n",
    "Programming is fun\n",
    "When the work is done\n",
    "if you wanna make your work also fun:\n",
    "    use Python!\n",
    "'''\n",
    "\n",
    "f = open('poem.txt', 'w')\n",
    "f.write(poem)\n",
    "f.close()\n",
    "\n",
    "f = open('poem.txt')\n",
    "while True:\n",
    "    line = f.readline()\n",
    "    if len(line) == 0:\n",
    "        break\n",
    "        \n",
    "    print(line, end='')\n",
    "    \n",
    "f.close()"
   ]
  },
  {
   "cell_type": "code",
   "execution_count": 8,
   "metadata": {},
   "outputs": [
    {
     "name": "stdout",
     "output_type": "stream",
     "text": [
      "['apple', 'mango', 'carrot']\n"
     ]
    }
   ],
   "source": [
    "# io_picke.py\n",
    "\n",
    "import pickle\n",
    "\n",
    "shoplistfile = 'shoplist.data'\n",
    "shoplist = ['apple', 'mango', 'carrot']\n",
    "\n",
    "f = open(shoplistfile, 'wb')\n",
    "\n",
    "pickle.dump(shoplist, f)\n",
    "f.close()\n",
    "\n",
    "del shoplist\n",
    "\n",
    "f = open(shoplistfile, 'rb')\n",
    "\n",
    "storedlist = pickle.load(f)\n",
    "print(storedlist)"
   ]
  },
  {
   "cell_type": "code",
   "execution_count": null,
   "metadata": {
    "collapsed": true
   },
   "outputs": [],
   "source": [
    ">>> \"hello world\"\n",
    "'hello world'\n",
    ">>> type(\"hello world\")\n",
    "<class 'str'>\n",
    ">>> u\"hello world\"\n",
    "'hello world'\n",
    ">>> type(u\"hello world\")\n",
    "<class 'str'>"
   ]
  },
  {
   "cell_type": "code",
   "execution_count": 9,
   "metadata": {},
   "outputs": [
    {
     "name": "stdout",
     "output_type": "stream",
     "text": [
      "Imagine non-English language here\n"
     ]
    }
   ],
   "source": [
    "# encoding = utf-8\n",
    "import io\n",
    "\n",
    "f = io.open(\"abc.txt\", \"wt\", encoding ='utf-8')\n",
    "f.write(u\"Imagine non-English language here\")\n",
    "f.close()\n",
    "\n",
    "text = io.open(\"abc.txt\", encoding =\"utf-8\").read()\n",
    "print(text)"
   ]
  },
  {
   "cell_type": "markdown",
   "metadata": {
    "collapsed": true
   },
   "source": [
    "## Homework 07 - CSV File\n",
    "Write this data to CSV file\n",
    "+ Ling,Mai,55900\n",
    "+ Johnson,Jim,56500\n",
    "+ …\n",
    "+ Zarnecki,Sabrina,51500\n",
    "\n",
    "Read the data from csv file, and output to the console.\n",
    "+ Last    First    Salary\n",
    "+ Ling    Mai    55900\n",
    "+ Johnson    Jim    56500\n",
    "+ …\n",
    "+ Zarnecki    Sabrina    51500"
   ]
  },
  {
   "cell_type": "code",
   "execution_count": 2,
   "metadata": {},
   "outputs": [
    {
     "name": "stdout",
     "output_type": "stream",
     "text": [
      "Last       First      Salary    \n",
      "Ling       Mai        55900      \n",
      "Johnson    Jim        56500      \n",
      "Zarnecki   Sabrina    51500      \n"
     ]
    }
   ],
   "source": [
    "print('Last'.ljust(10),'First'.ljust(10), 'Salary'.ljust(10))\n",
    "f = open('salary.csv')\n",
    "while True:\n",
    "    line = f.readline()\n",
    "\n",
    "    if len(line) == 0:\n",
    "        break\n",
    "\n",
    "    newline=[]\n",
    "    items = line.strip().split(',')\n",
    "    for s in items:\n",
    "        newline.append(s.ljust(10))\n",
    "    newline.append('\\n')\n",
    "    line=' '.join(newline)\n",
    "\n",
    "    print(line, end='')\n",
    "f.close()"
   ]
  },
  {
   "cell_type": "code",
   "execution_count": null,
   "metadata": {},
   "outputs": [],
   "source": []
  }
 ],
 "metadata": {
  "kernelspec": {
   "display_name": "Python 3",
   "language": "python",
   "name": "python3"
  },
  "language_info": {
   "codemirror_mode": {
    "name": "ipython",
    "version": 3
   },
   "file_extension": ".py",
   "mimetype": "text/x-python",
   "name": "python",
   "nbconvert_exporter": "python",
   "pygments_lexer": "ipython3",
   "version": "3.6.5"
  }
 },
 "nbformat": 4,
 "nbformat_minor": 2
}
